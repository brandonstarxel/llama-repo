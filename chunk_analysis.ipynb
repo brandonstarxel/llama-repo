{
 "cells": [
  {
   "cell_type": "code",
   "execution_count": 1,
   "metadata": {},
   "outputs": [],
   "source": [
    "import chromadb.utils.embedding_functions as embedding_functions\n",
    "import chromadb       \n",
    "import os\n",
    "       \n",
    "OPENAI_API_KEY = os.getenv('OPENAI_CHROMA_API_KEY')\n",
    "openai_ef = embedding_functions.OpenAIEmbeddingFunction(\n",
    "                api_key=OPENAI_API_KEY,\n",
    "                model_name=\"text-embedding-3-large\"\n",
    "            )\n",
    "\n",
    "chroma_client = chromadb.PersistentClient(path=\"/home/paperspace/llama-repo/data/chroma_db\")\n",
    "\n",
    "collection_name = \"auto_chunk\"\n",
    "\n",
    "collection = chroma_client.get_collection(collection_name)"
   ]
  },
  {
   "cell_type": "code",
   "execution_count": 2,
   "metadata": {},
   "outputs": [],
   "source": [
    "chunks = collection.get()"
   ]
  },
  {
   "cell_type": "code",
   "execution_count": 3,
   "metadata": {},
   "outputs": [
    {
     "data": {
      "text/plain": [
       "['Good evening. Good evening. If I were smart, I’d go home now.\\n\\nMr. Speaker, Madam Vice President, members of Congress, my fellow Americans. In January 1941, Franklin Roosevelt came to this chamber to speak to the nation. And he said, “I address you at a moment unprecedented in the history of the Union”. Hitler was on the march. War was raging in Europe.',\n",
       " 'President Roosevelt’s purpose was to wake up Congress and alert the American people that this was no ordinary time. Freedom and democracy were under assault in the world. Tonight, I come to the same chamber to address the nation. Now it’s we who face an unprecedented moment in the history of the Union.',\n",
       " 'My predecessor came to office determined to see Roe v. Wade overturned. He’s the reason it was overturned, and he brags about it. Look at the chaos that has resulted. Joining us tonight is Kate Cox, a wife and mother from Dallas. She’d become pregnant again and had a fetus with a fatal condition. Her doctor told Kate that her own life and her ability to have future in the fil- — children in the future were at risk if she didn’t act. Because Texas law banned her ability to act, Kate and her husband had to leave the state to get what she needed. What her family had gone through should have never happened as well. But it’s happening to too many others. There are state laws banning the freedom to choose, criminalizing doctors, forcing survivors of rape and incest to leave their states to get the treatment they need. Many of you in this chamber and my predecessor are promising to pass a national ban on reproductive freedom.\\n\\nAUDIENCE: Booo —\\n\\nTHE PRESIDENT: My God, what freedom else would you take away? Look, its decision to overturn Roe v. Wade, the Supreme Court majority wrote the following — and with all due respect, Justices — “Women are not without electoral — electoral power” — excuse me — “electoral or political power.”',\n",
       " \"the player moves the character around the battlefield in third @-@ person . A character can only act once per @-@ turn , but characters can be granted multiple turns at the expense of other characters ' turns . Each character has a field and distance of movement limited by their Action Gauge . Up to nine characters can be assigned to a single mission . During gameplay , characters will call out if something happens to them , such as their health points ( HP ) getting low or being knocked out by enemy attacks\",\n",
       " 'net cash used in working capital2 | -117.5 (117.5) | -131.1 (131.1) | -9.6 (9.6) changes in other non-current assets and liabilities using cash | -56.7 (56.7) | -30.6 (30.6) | 4.1 net cash provided by operating activities | $674.0 | $669.5 | $592.9 net cash used in investing activities | -202.8 (202.8) | -200.8 (200.8) | -224.5 (224.5)']"
      ]
     },
     "execution_count": 3,
     "metadata": {},
     "output_type": "execute_result"
    }
   ],
   "source": [
    "chunks['documents'][:5]"
   ]
  },
  {
   "cell_type": "code",
   "execution_count": 4,
   "metadata": {},
   "outputs": [],
   "source": [
    "import tiktoken\n",
    "\n",
    "# Count the number of tokens in each page_content\n",
    "def num_tokens_from_string(string: str) -> int:\n",
    "    \"\"\"Returns the number of tokens in a text string.\"\"\"\n",
    "    encoding = tiktoken.get_encoding(\"cl100k_base\")\n",
    "    num_tokens = len(encoding.encode(string, disallowed_special=()))\n",
    "    return num_tokens"
   ]
  },
  {
   "cell_type": "code",
   "execution_count": 6,
   "metadata": {},
   "outputs": [
    {
     "name": "stdout",
     "output_type": "stream",
     "text": [
      "Mean of tokens:  147.5549028468143\n",
      "Median of tokens:  116.0\n",
      "Min of tokens:  3\n",
      "Max of tokens:  633\n"
     ]
    }
   ],
   "source": [
    "tokens = [num_tokens_from_string(doc) for doc in chunks['documents']]\n",
    "\n",
    "import numpy as np\n",
    "\n",
    "# Calculate the mean of the tokens\n",
    "mean_tokens = np.mean(tokens)\n",
    "print(\"Mean of tokens: \", mean_tokens)\n",
    "# Calculate the median, min and max of the tokens\n",
    "median_tokens = np.median(tokens)\n",
    "min_tokens = np.min(tokens)\n",
    "max_tokens = np.max(tokens)\n",
    "\n",
    "print(\"Median of tokens: \", median_tokens)\n",
    "print(\"Min of tokens: \", min_tokens)\n",
    "print(\"Max of tokens: \", max_tokens)\n"
   ]
  }
 ],
 "metadata": {
  "kernelspec": {
   "display_name": "Python 3",
   "language": "python",
   "name": "python3"
  },
  "language_info": {
   "codemirror_mode": {
    "name": "ipython",
    "version": 3
   },
   "file_extension": ".py",
   "mimetype": "text/x-python",
   "name": "python",
   "nbconvert_exporter": "python",
   "pygments_lexer": "ipython3",
   "version": "3.10.12"
  }
 },
 "nbformat": 4,
 "nbformat_minor": 2
}
